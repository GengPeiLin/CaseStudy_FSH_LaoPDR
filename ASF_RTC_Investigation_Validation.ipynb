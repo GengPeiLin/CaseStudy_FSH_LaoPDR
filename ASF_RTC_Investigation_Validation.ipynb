{
  "nbformat": 4,
  "nbformat_minor": 0,
  "metadata": {
    "colab": {
      "name": "ASF_RTC_Investigation_Validation.ipynb",
      "provenance": [],
      "collapsed_sections": [],
      "toc_visible": true,
      "authorship_tag": "ABX9TyOh7xLsmT/HX+CLhr8CxFdg",
      "include_colab_link": true
    },
    "kernelspec": {
      "name": "python3",
      "display_name": "Python 3"
    }
  },
  "cells": [
    {
      "cell_type": "markdown",
      "metadata": {
        "id": "view-in-github",
        "colab_type": "text"
      },
      "source": [
        "<a href=\"https://colab.research.google.com/github/HBaldwin3/CaseStudy_FSH_LaoPDR/blob/main/ASF_RTC_Investigation_Validation.ipynb\" target=\"_parent\"><img src=\"https://colab.research.google.com/assets/colab-badge.svg\" alt=\"Open In Colab\"/></a>"
      ]
    },
    {
      "cell_type": "markdown",
      "metadata": {
        "id": "XSkR6yl80R73"
      },
      "source": [
        "#Set up workspace"
      ]
    },
    {
      "cell_type": "markdown",
      "metadata": {
        "id": "vChaZqKbsnHL"
      },
      "source": [
        "##Imports"
      ]
    },
    {
      "cell_type": "code",
      "metadata": {
        "id": "A24jmGTxsraK"
      },
      "source": [
        "import numpy as np\n",
        "import pandas as pd\n",
        "from scipy.optimize import curve_fit\n",
        "import matplotlib.pyplot as plt\n",
        "from osgeo import gdal  \n",
        "from sklearn.metrics import r2_score\n",
        "import seaborn as sns; sns.set(color_codes=True)\n",
        "import imageio\n",
        "from scipy.interpolate import *\n",
        "from scipy.stats import *\n",
        "from scipy import ndimage, misc\n",
        "import matplotlib.lines as lines\n",
        "import glob\n",
        "import math\n",
        "import statistics\n",
        "import sklearn"
      ],
      "execution_count": null,
      "outputs": []
    },
    {
      "cell_type": "markdown",
      "metadata": {
        "id": "DSUz4OKaslga"
      },
      "source": [
        "##Connect to google drive"
      ]
    },
    {
      "cell_type": "code",
      "metadata": {
        "id": "zBiYAOFBssHb"
      },
      "source": [
        "import os, sys\n",
        "from google.colab import drive\n",
        "drive.mount('/content/mnt')\n",
        "nb_path = '/content/notebooks'\n",
        "os.symlink('/content/mnt/My Drive/Colab Notebooks', nb_path)\n",
        "sys.path.insert(0, nb_path)  # or append(nb_path)"
      ],
      "execution_count": null,
      "outputs": []
    },
    {
      "cell_type": "markdown",
      "metadata": {
        "id": "73EkcCvv0Yze"
      },
      "source": [
        "##Navigate to Backscatter Directory"
      ]
    },
    {
      "cell_type": "code",
      "metadata": {
        "id": "4gpZMl7U0c2t"
      },
      "source": [
        "cd /content/notebooks/validation_resamp6ha/"
      ],
      "execution_count": null,
      "outputs": []
    },
    {
      "cell_type": "code",
      "metadata": {
        "id": "A2r6B5HL4c9x"
      },
      "source": [
        "%ls"
      ],
      "execution_count": null,
      "outputs": []
    },
    {
      "cell_type": "markdown",
      "metadata": {
        "id": "3p_ga8JBsjeN"
      },
      "source": [
        "#Bring in datasets"
      ]
    },
    {
      "cell_type": "markdown",
      "metadata": {
        "id": "qOKQlK-xtI-u"
      },
      "source": [
        "##Testing LiDAR"
      ]
    },
    {
      "cell_type": "code",
      "metadata": {
        "id": "nhbzFQHGtMF-"
      },
      "source": [
        "lidar_testing = \"LiDAR_testing.tif\""
      ],
      "execution_count": null,
      "outputs": []
    },
    {
      "cell_type": "code",
      "metadata": {
        "id": "cbKupHsW6qNs"
      },
      "source": [
        "lidar = gdal.Open(lidar_testing)\n",
        "xlidar = lidar.ReadAsArray()"
      ],
      "execution_count": null,
      "outputs": []
    },
    {
      "cell_type": "markdown",
      "metadata": {
        "id": "fR8L4LZWtMed"
      },
      "source": [
        "##InSAR Output"
      ]
    },
    {
      "cell_type": "markdown",
      "metadata": {
        "id": "ngOK078GLiRi"
      },
      "source": [
        "Let's test the low coherence removed and no low coherence for the 2009 InSAR output (that was created using the FNF mask and lidar training data that had already been resampled to 6 ha). "
      ]
    },
    {
      "cell_type": "code",
      "metadata": {
        "id": "RZ3lWrYJtUZX"
      },
      "source": [
        "insar_height_2009_low_coh_inc = \"testing_2009_low_coh_inc_resamp6.tif\""
      ],
      "execution_count": null,
      "outputs": []
    },
    {
      "cell_type": "code",
      "metadata": {
        "id": "99xFD_XH4yJw"
      },
      "source": [
        "insar_2009_low = gdal.Open(insar_height_2009_low_coh_inc)\n",
        "y_2009_low = insar_2009_low.ReadAsArray()"
      ],
      "execution_count": null,
      "outputs": []
    },
    {
      "cell_type": "code",
      "metadata": {
        "id": "uHuKIBu24xmg"
      },
      "source": [
        "insar_height_2009_low_coh_exc = \"testing_2009_no_low_coh_resamp6.tif\""
      ],
      "execution_count": null,
      "outputs": []
    },
    {
      "cell_type": "code",
      "metadata": {
        "id": "tnON7xz_5jeK"
      },
      "source": [
        "insar_2009_no = gdal.Open(insar_height_2009_low_coh_exc)\n",
        "y_2009_no = insar_2009_no.ReadAsArray()"
      ],
      "execution_count": null,
      "outputs": []
    },
    {
      "cell_type": "markdown",
      "metadata": {
        "id": "eA92kCm-8yx7"
      },
      "source": [
        "#Clean input datasets"
      ]
    },
    {
      "cell_type": "code",
      "metadata": {
        "id": "bnt4-uMW-VjA"
      },
      "source": [
        "print(xlidar.shape)\n",
        "print(y_2009_low.shape)\n",
        "print(y_2009_no.shape)"
      ],
      "execution_count": null,
      "outputs": []
    },
    {
      "cell_type": "code",
      "metadata": {
        "id": "cs2RjCjD8hTW"
      },
      "source": [
        "print(xlidar)\n",
        "print(y_2009_low)\n",
        "print(y_2009_no)"
      ],
      "execution_count": null,
      "outputs": []
    },
    {
      "cell_type": "markdown",
      "metadata": {
        "id": "Zf6mvlq5_BkQ"
      },
      "source": [
        "Squash 2D to 1D"
      ]
    },
    {
      "cell_type": "code",
      "metadata": {
        "id": "n8BePYTB-oVB"
      },
      "source": [
        "x_rav = np.array(xlidar).ravel()\n",
        "print(\"x_ravel\", x_rav.shape) \n",
        "\n",
        "y_rav2009_no = np.array(y_2009_no).ravel()\n",
        "print(\"2009 no low coherence ravel\", y_rav2009_no.shape) \n",
        "\n",
        "y_rav2009_low = np.array(y_2009_low).ravel()\n",
        "print(\"2009 low coherence included ravel\", y_rav2009_low.shape) "
      ],
      "execution_count": null,
      "outputs": []
    },
    {
      "cell_type": "markdown",
      "metadata": {
        "id": "YBHm7zJZRiL6"
      },
      "source": [
        "add in NaNs"
      ]
    },
    {
      "cell_type": "code",
      "metadata": {
        "id": "N5QLGZ3bRh6i"
      },
      "source": [
        "x_nan = np.where(x_rav<0, np.NaN, x_rav)\n",
        "\n",
        "y_nan2009_no = np.where(y_rav2009_no<0, np.NaN, y_rav2009_no)\n",
        "y_nan2009_low = np.where(y_rav2009_low<0, np.NaN, y_rav2009_low)\n",
        "\n",
        "print(x_nan)\n",
        "print(y_nan2009_no)\n",
        "print(y_nan2009_low)"
      ],
      "execution_count": null,
      "outputs": []
    },
    {
      "cell_type": "markdown",
      "metadata": {
        "id": "25QZO1V2VDT_"
      },
      "source": [
        "and to get rid of additional nodata values..."
      ]
    },
    {
      "cell_type": "code",
      "metadata": {
        "id": "5N3VvOkcU-AS"
      },
      "source": [
        "y_nan2009_low_2 = np.where(y_nan2009_low>65534, np.NaN, y_nan2009_low)\n",
        "\n",
        "print(y_nan2009_low_2)"
      ],
      "execution_count": null,
      "outputs": []
    },
    {
      "cell_type": "markdown",
      "metadata": {
        "id": "Bu671EkoRrPC"
      },
      "source": [
        "Ignore nan values in both inputs by creating a mask called \"bad\" (potentially add inf into this). Then compress the ravelled x and y data with the 'bad' mask to create two new datasets xnew and ynew that should match in size and shape (1D)."
      ]
    },
    {
      "cell_type": "code",
      "metadata": {
        "id": "dZYxocs5Rr_R"
      },
      "source": [
        "bad_no = ~np.logical_or(np.isnan(y_nan2009_no), np.isnan(x_nan))\n",
        "bad_low = ~np.logical_or(np.isnan(y_nan2009_low_2), np.isnan(x_nan))"
      ],
      "execution_count": null,
      "outputs": []
    },
    {
      "cell_type": "code",
      "metadata": {
        "id": "mJ-MPxAfKnzm"
      },
      "source": [
        "xnew2009_no = np.compress(bad_no, x_nan)\n",
        "ynew2009_no = np.compress(bad_no, y_nan2009_no)\n",
        "\n",
        "xnew2009_low = np.compress(bad_low, x_nan)\n",
        "ynew2009_low = np.compress(bad_low, y_nan2009_low_2)"
      ],
      "execution_count": null,
      "outputs": []
    },
    {
      "cell_type": "code",
      "metadata": {
        "id": "_ZjQ7o-Q8tQd"
      },
      "source": [
        "print(ynew2009_low)\n",
        "print(ynew2009_no)"
      ],
      "execution_count": null,
      "outputs": []
    },
    {
      "cell_type": "code",
      "metadata": {
        "id": "UCfF3-rqPdIq"
      },
      "source": [
        "print(ynew2009_no.shape)\n",
        "print(ynew2009_low.shape)"
      ],
      "execution_count": null,
      "outputs": []
    },
    {
      "cell_type": "markdown",
      "metadata": {
        "id": "ZOrZ_pd0tSx-"
      },
      "source": [
        "#Graph and Calculate Metrics"
      ]
    },
    {
      "cell_type": "markdown",
      "metadata": {
        "id": "AHF6Urx4YrNK"
      },
      "source": [
        "Used 22 as the ylim for low incoherence included, 25 ylim for all of the other graphs"
      ]
    },
    {
      "cell_type": "markdown",
      "metadata": {
        "id": "rAHsqkOpRKVd"
      },
      "source": [
        "First computing for no low coherence"
      ]
    },
    {
      "cell_type": "code",
      "metadata": {
        "id": "hUJom95w88NI"
      },
      "source": [
        "#line of best fit\n",
        "#https://stackoverflow.com/questions/22239691/code-for-best-fit-straight-line-of-a-scatter-plot-in-python\n",
        "def best_fit(X, Y):\n",
        "\n",
        "    xbar = sum(X)/len(X)\n",
        "    ybar = sum(Y)/len(Y)\n",
        "    n = len(X) # or len(Y)\n",
        "\n",
        "    numer = sum([xi*yi for xi,yi in zip(X, Y)]) - n * xbar * ybar\n",
        "    denom = sum([xi**2 for xi in X]) - n * xbar**2\n",
        "\n",
        "    b = numer / denom\n",
        "    a = ybar - b * xbar\n",
        "\n",
        "    print('best fit line:\\ny = {:.2f} + {:.2f}x'.format(a, b))\n",
        "\n",
        "    return a, b\n",
        "\n",
        "a, b = best_fit(ynew2009_no, xnew2009_no)\n",
        "yfit = [a + b * xi for xi in xnew2009_no]\n",
        "\n",
        "#Density plot: https://python-graph-gallery.com/83-basic-2d-histograms-with-matplotlib/\n",
        "plt.plot(xnew2009_no, yfit)\n",
        "plt.hist2d(xnew2009_no, ynew2009_no, bins=(50, 50), cmap=plt.cm.Greys)\n",
        "plt.ylim(top=18)\n",
        "plt.colorbar()\n",
        "\n",
        "plt.xlabel('LiDAR Height')\n",
        "plt.ylabel('InSAR estimated Height')\n",
        "#plt.legend()\n",
        "plt.show()\n",
        "\n",
        "#although not actually predicting anything here...\n",
        "actual = xnew2009_no\n",
        "predicted = ynew2009_no\n",
        "\n",
        "#calculate bias\n",
        "#confirm this process\n",
        "bias = statistics.mean(predicted-actual)\n",
        "print (\"bias\", bias)\n",
        "\n",
        "correlation_matrix = np.corrcoef(actual, predicted)\n",
        "correlation_xy = correlation_matrix[0,1]\n",
        "r_squared = correlation_xy**2\n",
        "\n",
        "print(\"numpy R2\", r_squared)\n",
        "\n",
        "slope, intercept, r_value, p_value, std_err = stats.linregress(actual, predicted)\n",
        "print (\"stats R value\", r_value)\n",
        "statsR2 = r_value*r_value\n",
        "print(\"stats R2\", statsR2)\n",
        "\n",
        "mse = sklearn.metrics.mean_squared_error(actual, predicted)\n",
        "rmse = math.sqrt(mse)\n",
        "print (\"RMSE \", rmse)\n",
        "\n",
        "stdev = statistics.stdev(ynew2009_no)\n",
        "print(\"standard deviation of InSAR height\", stdev)\n",
        "\n",
        "fig = plt.figure()\n",
        "plt.scatter(xnew2009_no, ynew2009_no) #, c=colors, alpha=0.5\n",
        "plt.plot( xnew2009_no, yfit, figure=fig )\n",
        "plt.xlabel('LiDAR height')\n",
        "plt.ylabel('InSAR estimated height')\n",
        "plt.show()"
      ],
      "execution_count": null,
      "outputs": []
    },
    {
      "cell_type": "markdown",
      "metadata": {
        "id": "XbyLAvRnTlk1"
      },
      "source": [
        "And now we will repeat for the low coherence (less than 0.2) included"
      ]
    },
    {
      "cell_type": "code",
      "metadata": {
        "id": "z0HyaxE0St2b"
      },
      "source": [
        "#line of best fit\n",
        "#https://stackoverflow.com/questions/22239691/code-for-best-fit-straight-line-of-a-scatter-plot-in-python\n",
        "def best_fit(X, Y):\n",
        "\n",
        "    xbar = sum(X)/len(X)\n",
        "    ybar = sum(Y)/len(Y)\n",
        "    n = len(X) # or len(Y)\n",
        "\n",
        "    numer = sum([xi*yi for xi,yi in zip(X, Y)]) - n * xbar * ybar\n",
        "    denom = sum([xi**2 for xi in X]) - n * xbar**2\n",
        "\n",
        "    b = numer / denom\n",
        "    a = ybar - b * xbar\n",
        "\n",
        "    print('best fit line:\\ny = {:.2f} + {:.2f}x'.format(a, b))\n",
        "\n",
        "    return a, b\n",
        "\n",
        "a, b = best_fit(ynew2009_low, xnew2009_low)\n",
        "yfit = [a + b * xi for xi in xnew2009_low]\n",
        "\n",
        "#Density plot: https://python-graph-gallery.com/83-basic-2d-histograms-with-matplotlib/\n",
        "plt.plot(xnew2009_low, yfit)\n",
        "plt.hist2d(xnew2009_low, ynew2009_low, bins=(50, 50), cmap=plt.cm.Greys)\n",
        "plt.ylim(top=18)\n",
        "plt.colorbar()\n",
        "\n",
        "plt.xlabel('LiDAR Height')\n",
        "plt.ylabel('InSAR estimated Height')\n",
        "#plt.legend()\n",
        "plt.show()\n",
        "\n",
        "#although not actually predicting anything here...\n",
        "actual = xnew2009_low\n",
        "predicted = ynew2009_low\n",
        "\n",
        "#calculate bias\n",
        "#confirm this process\n",
        "bias = statistics.mean(predicted-actual)\n",
        "print (\"bias\", bias)\n",
        "\n",
        "correlation_matrix = np.corrcoef(actual, predicted)\n",
        "correlation_xy = correlation_matrix[0,1]\n",
        "r_squared = correlation_xy**2\n",
        "\n",
        "print(\"numpy R2\", r_squared)\n",
        "\n",
        "slope, intercept, r_value, p_value, std_err = stats.linregress(actual, predicted)\n",
        "print (\"stats R value\", r_value)\n",
        "statsR2 = r_value*r_value\n",
        "print(\"stats R2\", statsR2)\n",
        "\n",
        "mse = sklearn.metrics.mean_squared_error(actual, predicted)\n",
        "rmse = math.sqrt(mse)\n",
        "print (\"RMSE \", rmse)\n",
        "\n",
        "stdev = statistics.stdev(ynew2009_low)\n",
        "print(\"standard deviation of InSAR height\", stdev)\n",
        "\n",
        "fig = plt.figure()\n",
        "plt.scatter(xnew2009_low, ynew2009_low) #, c=colors, alpha=0.5\n",
        "plt.plot( xnew2009_low, yfit, figure=fig )\n",
        "plt.xlabel('LiDAR height')\n",
        "plt.ylabel('InSAR Estimated Height')\n",
        "plt.show()"
      ],
      "execution_count": null,
      "outputs": []
    },
    {
      "cell_type": "markdown",
      "metadata": {
        "id": "L7KmmKhLtVIO"
      },
      "source": [
        "##Backscatter Product"
      ]
    },
    {
      "cell_type": "markdown",
      "metadata": {
        "id": "mftl7301K5pt"
      },
      "source": [
        "We will compare the 6 ha produced backscatter product based on various colab coefficients. "
      ]
    },
    {
      "cell_type": "code",
      "metadata": {
        "id": "rwDtxwmLLNXu"
      },
      "source": [
        "%ls"
      ],
      "execution_count": null,
      "outputs": []
    },
    {
      "cell_type": "markdown",
      "metadata": {
        "id": "_4fZZTqILAOu"
      },
      "source": [
        "So bring in our two datasets..."
      ]
    },
    {
      "cell_type": "code",
      "metadata": {
        "id": "l5vlfEktK5Ar"
      },
      "source": [
        "lidar_testing = \"LiDAR_testing.tif\""
      ],
      "execution_count": null,
      "outputs": []
    },
    {
      "cell_type": "code",
      "metadata": {
        "id": "bzcUNWiTsBh0"
      },
      "source": [
        "lidar = gdal.Open(lidar_testing)\n",
        "xlidar = lidar.ReadAsArray()"
      ],
      "execution_count": null,
      "outputs": []
    },
    {
      "cell_type": "code",
      "metadata": {
        "id": "cOo4VV4OLIo7"
      },
      "source": [
        "backscatter = \"Fusion_v1_test.tif\""
      ],
      "execution_count": null,
      "outputs": []
    },
    {
      "cell_type": "code",
      "metadata": {
        "id": "NBTU9HLjLIWN"
      },
      "source": [
        "bs_FSH = gdal.Open(backscatter)\n",
        "bs = bs_FSH.ReadAsArray()"
      ],
      "execution_count": null,
      "outputs": []
    },
    {
      "cell_type": "markdown",
      "metadata": {
        "id": "Dy0uyQRnMEgW"
      },
      "source": [
        "Check them..."
      ]
    },
    {
      "cell_type": "code",
      "metadata": {
        "id": "5KX7RQ9VLlLH"
      },
      "source": [
        "print(bs.shape)\n",
        "print(xlidar.shape)"
      ],
      "execution_count": null,
      "outputs": []
    },
    {
      "cell_type": "code",
      "metadata": {
        "id": "BHlSZz2H43pc"
      },
      "source": [
        "print(bs)"
      ],
      "execution_count": null,
      "outputs": []
    },
    {
      "cell_type": "markdown",
      "metadata": {
        "id": "fxR_6k-9LjYv"
      },
      "source": [
        "Clean them up..."
      ]
    },
    {
      "cell_type": "code",
      "metadata": {
        "id": "pBYYEIVbLzLv"
      },
      "source": [
        "x_rav = np.array(xlidar).ravel()\n",
        "print(\"x_ravel\", x_rav.shape) \n",
        "\n",
        "y_bs = np.array(bs).ravel()\n",
        "print(\"Backscatter estimated height ravel\", y_bs.shape) "
      ],
      "execution_count": null,
      "outputs": []
    },
    {
      "cell_type": "markdown",
      "metadata": {
        "id": "g32ki3BxMXbY"
      },
      "source": [
        "Add in NaNs"
      ]
    },
    {
      "cell_type": "code",
      "metadata": {
        "id": "X38DnJzIMRYB"
      },
      "source": [
        "x_nan = np.where(x_rav<0, np.NaN, x_rav)\n",
        "\n",
        "y_nan = np.where(y_bs<0, np.NaN, y_bs)\n",
        "\n",
        "print(y_nan)\n",
        "print(x_nan)"
      ],
      "execution_count": null,
      "outputs": []
    },
    {
      "cell_type": "code",
      "metadata": {
        "id": "oYdVuUyEMrDK"
      },
      "source": [
        "bad_bs = ~np.logical_or(np.isnan(x_nan), np.isnan(y_nan))"
      ],
      "execution_count": null,
      "outputs": []
    },
    {
      "cell_type": "code",
      "metadata": {
        "id": "AawJ9kPhMxJK"
      },
      "source": [
        "xnew = np.compress(bad_bs, x_nan)\n",
        "ynew = np.compress(bad_bs, y_nan)"
      ],
      "execution_count": null,
      "outputs": []
    },
    {
      "cell_type": "code",
      "metadata": {
        "id": "Wn17Abf1NFH7"
      },
      "source": [
        "print(xnew)\n",
        "print(ynew)"
      ],
      "execution_count": null,
      "outputs": []
    },
    {
      "cell_type": "code",
      "metadata": {
        "id": "ia9KirmyNILM"
      },
      "source": [
        "#line of best fit\n",
        "#https://stackoverflow.com/questions/22239691/code-for-best-fit-straight-line-of-a-scatter-plot-in-python\n",
        "def best_fit(X, Y):\n",
        "\n",
        "    xbar = sum(X)/len(X)\n",
        "    ybar = sum(Y)/len(Y)\n",
        "    n = len(X) # or len(Y)\n",
        "\n",
        "    numer = sum([xi*yi for xi,yi in zip(X, Y)]) - n * xbar * ybar\n",
        "    denom = sum([xi**2 for xi in X]) - n * xbar**2\n",
        "\n",
        "    b = numer / denom\n",
        "    a = ybar - b * xbar\n",
        "\n",
        "    print('best fit line:\\ny = {:.2f} + {:.2f}x'.format(a, b))\n",
        "\n",
        "    return a, b\n",
        "\n",
        "a, b = best_fit(xnew, ynew)\n",
        "yfit = [a + b * xi for xi in xnew]\n",
        "\n",
        "#Density plot: https://python-graph-gallery.com/83-basic-2d-histograms-with-matplotlib/\n",
        "plt.plot(xnew, yfit)\n",
        "plt.hist2d(xnew, ynew, bins=(50, 50), cmap=plt.cm.Greys)\n",
        "#plt.ylim(top=80)\n",
        "plt.colorbar()\n",
        "\n",
        "plt.xlabel('LiDAR Height')\n",
        "plt.ylabel('Backscatter estimated Height')\n",
        "#plt.legend()\n",
        "plt.show()\n",
        "\n",
        "#although not actually predicting anything here...\n",
        "actual = xnew\n",
        "predicted = ynew\n",
        "\n",
        "#calculate bias\n",
        "#confirm this process\n",
        "bias = statistics.mean(predicted-actual)\n",
        "print (\"bias\", bias)\n",
        "\n",
        "correlation_matrix = np.corrcoef(actual, predicted)\n",
        "correlation_xy = correlation_matrix[0,1]\n",
        "r_squared = correlation_xy**2\n",
        "\n",
        "print(\"numpy R2\", r_squared)\n",
        "\n",
        "slope, intercept, r_value, p_value, std_err = stats.linregress(actual, predicted)\n",
        "print (\"stats R value\", r_value)\n",
        "statsR2 = r_value*r_value\n",
        "print(\"stats R2\", statsR2)\n",
        "\n",
        "mse = sklearn.metrics.mean_squared_error(actual, predicted)\n",
        "rmse = math.sqrt(mse)\n",
        "print (\"RMSE \", rmse)\n",
        "\n",
        "#stdev = statistics.stdev(ynew)\n",
        "#print(\"standard deviation of InSAR height\", stdev)\n",
        "\n",
        "fig = plt.figure()\n",
        "plt.scatter(xnew, ynew) #, c=colors, alpha=0.5\n",
        "plt.plot( xnew, yfit, figure=fig )\n",
        "plt.xlabel('LiDAR height')\n",
        "plt.ylabel('Estimated Height')\n",
        "plt.show()"
      ],
      "execution_count": null,
      "outputs": []
    },
    {
      "cell_type": "markdown",
      "metadata": {
        "id": "x7JjC7aztZZu"
      },
      "source": [
        "##Fusion Product"
      ]
    },
    {
      "cell_type": "markdown",
      "metadata": {
        "id": "-GzrUBTXS47E"
      },
      "source": [
        "We will validate the fusion product against other raster products (GLAD 2019, potentially add GLAD 2010). \n",
        "\n",
        "The point validation (GEDI, hdom) was completed in ArcMap and Excel. "
      ]
    },
    {
      "cell_type": "code",
      "metadata": {
        "id": "k2KQNLdqS25s"
      },
      "source": [
        "%ls"
      ],
      "execution_count": null,
      "outputs": []
    },
    {
      "cell_type": "code",
      "metadata": {
        "id": "1qoSVSEGtdyV"
      },
      "source": [
        "glad_testing = \"GLAD_2019_setnull.tif\""
      ],
      "execution_count": null,
      "outputs": []
    },
    {
      "cell_type": "code",
      "metadata": {
        "id": "kTDVtjrwUB6j"
      },
      "source": [
        "glad = gdal.Open(glad_testing)\n",
        "xGLAD = glad.ReadAsArray()"
      ],
      "execution_count": null,
      "outputs": []
    },
    {
      "cell_type": "code",
      "metadata": {
        "id": "24NWVpg1UTRq"
      },
      "source": [
        "fusion = \"Fusion_v1_extract.tif\""
      ],
      "execution_count": null,
      "outputs": []
    },
    {
      "cell_type": "code",
      "metadata": {
        "id": "-FAcyUqWUvG3"
      },
      "source": [
        "fusion_FSH = gdal.Open(fusion)\n",
        "fs = fusion_FSH.ReadAsArray()"
      ],
      "execution_count": null,
      "outputs": []
    },
    {
      "cell_type": "markdown",
      "metadata": {
        "id": "i4yJL8R6WIP8"
      },
      "source": [
        "Check to make sure they are the same"
      ]
    },
    {
      "cell_type": "code",
      "metadata": {
        "id": "yZisFzgtVB0V"
      },
      "source": [
        "print(xGLAD.shape)\n",
        "print(fs.shape)"
      ],
      "execution_count": null,
      "outputs": []
    },
    {
      "cell_type": "code",
      "metadata": {
        "id": "sKmHwCQ4XuYC"
      },
      "source": [
        "x_rav = np.array(xGLAD).ravel()\n",
        "print(\"GLAD\", x_rav.shape) \n",
        "\n",
        "y_rav = np.array(fs).ravel()\n",
        "print(\"Fusion\", y_rav.shape) "
      ],
      "execution_count": null,
      "outputs": []
    },
    {
      "cell_type": "code",
      "metadata": {
        "id": "zaFP7P0mYQNP"
      },
      "source": [
        "x_nan = np.where(x_rav<0, np.NaN, x_rav)\n",
        "\n",
        "y_nan = np.where(y_rav<0, np.NaN, y_rav)\n",
        "\n",
        "print(y_nan)\n",
        "print(x_nan)"
      ],
      "execution_count": null,
      "outputs": []
    },
    {
      "cell_type": "code",
      "metadata": {
        "id": "6ctFxVFiYY9a"
      },
      "source": [
        "bad_bs = ~np.logical_or(np.isnan(x_nan), np.isnan(y_nan))"
      ],
      "execution_count": null,
      "outputs": []
    },
    {
      "cell_type": "code",
      "metadata": {
        "id": "vOHzX3ZBYk53"
      },
      "source": [
        "xnew = np.compress(bad_bs, x_nan)\n",
        "ynew = np.compress(bad_bs, y_nan)"
      ],
      "execution_count": null,
      "outputs": []
    },
    {
      "cell_type": "code",
      "metadata": {
        "id": "vN568o2uY0_g"
      },
      "source": [
        "print(xnew)\n",
        "print(ynew)"
      ],
      "execution_count": null,
      "outputs": []
    },
    {
      "cell_type": "code",
      "metadata": {
        "id": "tB5GlaouY4Uz"
      },
      "source": [
        "#line of best fit\n",
        "#https://stackoverflow.com/questions/22239691/code-for-best-fit-straight-line-of-a-scatter-plot-in-python\n",
        "def best_fit(X, Y):\n",
        "\n",
        "    xbar = sum(X)/len(X)\n",
        "    ybar = sum(Y)/len(Y)\n",
        "    n = len(X) # or len(Y)\n",
        "\n",
        "    numer = sum([xi*yi for xi,yi in zip(X, Y)]) - n * xbar * ybar\n",
        "    denom = sum([xi**2 for xi in X]) - n * xbar**2\n",
        "\n",
        "    b = numer / denom\n",
        "    a = ybar - b * xbar\n",
        "\n",
        "    print('best fit line:\\ny = {:.2f} + {:.2f}x'.format(a, b))\n",
        "\n",
        "    return a, b\n",
        "\n",
        "a, b = best_fit(xnew, ynew)\n",
        "yfit = [a + b * xi for xi in xnew]\n",
        "\n",
        "#Density plot: https://python-graph-gallery.com/83-basic-2d-histograms-with-matplotlib/\n",
        "plt.plot(xnew, yfit)\n",
        "plt.hist2d(xnew, ynew, bins=(50, 50), cmap=plt.cm.Greys)\n",
        "#plt.ylim(top=80)\n",
        "plt.colorbar()\n",
        "\n",
        "plt.xlabel('GLAD Height')\n",
        "plt.ylabel('Fusion Height')\n",
        "#plt.legend()\n",
        "plt.show()\n",
        "\n",
        "#although not actually predicting anything here...\n",
        "actual = xnew\n",
        "predicted = ynew\n",
        "\n",
        "#calculate bias\n",
        "#confirm this process\n",
        "bias = statistics.mean(predicted-actual)\n",
        "print (\"bias\", bias)\n",
        "\n",
        "correlation_matrix = np.corrcoef(actual, predicted)\n",
        "correlation_xy = correlation_matrix[0,1]\n",
        "r_squared = correlation_xy**2\n",
        "\n",
        "print(\"numpy R2\", r_squared)\n",
        "\n",
        "slope, intercept, r_value, p_value, std_err = stats.linregress(actual, predicted)\n",
        "print (\"stats R value\", r_value)\n",
        "statsR2 = r_value*r_value\n",
        "print(\"stats R2\", statsR2)\n",
        "\n",
        "mse = sklearn.metrics.mean_squared_error(actual, predicted)\n",
        "rmse = math.sqrt(mse)\n",
        "print (\"RMSE \", rmse)\n",
        "\n",
        "#stdev = statistics.stdev(ynew)\n",
        "#print(\"standard deviation of InSAR height\", stdev)\n",
        "\n",
        "fig = plt.figure()\n",
        "plt.scatter(xnew, ynew) #, c=colors, alpha=0.5\n",
        "plt.plot( xnew, yfit, figure=fig )\n",
        "plt.xlabel('GLAD height')\n",
        "plt.ylabel('Fusion estimated Height')\n",
        "plt.show()"
      ],
      "execution_count": null,
      "outputs": []
    }
  ]
}