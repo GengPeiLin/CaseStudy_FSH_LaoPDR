{
  "nbformat": 4,
  "nbformat_minor": 0,
  "metadata": {
    "colab": {
      "name": "Validation_10-28-2020.ipynb",
      "provenance": [],
      "collapsed_sections": [
        "mFBhoj9qDo_u"
      ],
      "toc_visible": true,
      "authorship_tag": "ABX9TyPRWNFDLh2hH8ibRMOmugGi",
      "include_colab_link": true
    },
    "kernelspec": {
      "name": "python3",
      "display_name": "Python 3"
    }
  },
  "cells": [
    {
      "cell_type": "markdown",
      "metadata": {
        "id": "view-in-github",
        "colab_type": "text"
      },
      "source": [
        "<a href=\"https://colab.research.google.com/github/HBaldwin3/CaseStudy_FSH_LaoPDR/blob/main/Validation_10_28_2020.ipynb\" target=\"_parent\"><img src=\"https://colab.research.google.com/assets/colab-badge.svg\" alt=\"Open In Colab\"/></a>"
      ]
    },
    {
      "cell_type": "markdown",
      "metadata": {
        "id": "XSkR6yl80R73"
      },
      "source": [
        "#Set up workspace"
      ]
    },
    {
      "cell_type": "markdown",
      "metadata": {
        "id": "vChaZqKbsnHL"
      },
      "source": [
        "##Imports"
      ]
    },
    {
      "cell_type": "code",
      "metadata": {
        "id": "A24jmGTxsraK"
      },
      "source": [
        "import numpy as np\n",
        "import pandas as pd\n",
        "from scipy.optimize import curve_fit\n",
        "import matplotlib.pyplot as plt\n",
        "from osgeo import gdal  \n",
        "from sklearn.metrics import r2_score\n",
        "import seaborn as sns; sns.set(color_codes=True)\n",
        "import imageio\n",
        "from scipy.interpolate import *\n",
        "from scipy.stats import *\n",
        "from scipy import ndimage, misc\n",
        "import matplotlib.lines as lines\n",
        "import glob\n",
        "import math\n",
        "import statistics\n",
        "import sklearn"
      ],
      "execution_count": null,
      "outputs": []
    },
    {
      "cell_type": "markdown",
      "metadata": {
        "id": "DSUz4OKaslga"
      },
      "source": [
        "##Connect to google drive"
      ]
    },
    {
      "cell_type": "code",
      "metadata": {
        "id": "zBiYAOFBssHb",
        "colab": {
          "base_uri": "https://localhost:8080/"
        },
        "outputId": "a0ff89f5-ecad-403b-ab6c-867eb5d5cf4c"
      },
      "source": [
        "import os, sys\n",
        "from google.colab import drive\n",
        "drive.mount('/content/mnt')\n",
        "nb_path = '/content/notebooks'\n",
        "os.symlink('/content/mnt/My Drive/Colab Notebooks', nb_path)\n",
        "sys.path.insert(0, nb_path)  # or append(nb_path)"
      ],
      "execution_count": null,
      "outputs": [
        {
          "output_type": "stream",
          "text": [
            "Mounted at /content/mnt\n"
          ],
          "name": "stdout"
        }
      ]
    },
    {
      "cell_type": "markdown",
      "metadata": {
        "id": "73EkcCvv0Yze"
      },
      "source": [
        "##Navigate to Backscatter Directory"
      ]
    },
    {
      "cell_type": "code",
      "metadata": {
        "id": "4gpZMl7U0c2t",
        "colab": {
          "base_uri": "https://localhost:8080/"
        },
        "outputId": "5f993ab7-30f9-4027-cb7a-427b91592319"
      },
      "source": [
        "cd /content/notebooks/ASF_RTC_Backscatter_Investigation/"
      ],
      "execution_count": null,
      "outputs": [
        {
          "output_type": "stream",
          "text": [
            "/content/mnt/My Drive/Colab Notebooks/ASF_RTC_Backscatter_Investigation\n"
          ],
          "name": "stdout"
        }
      ]
    },
    {
      "cell_type": "code",
      "metadata": {
        "id": "A2r6B5HL4c9x",
        "colab": {
          "base_uri": "https://localhost:8080/"
        },
        "outputId": "3fa1d47d-83f3-40c2-ddba-956d3027f4e8"
      },
      "source": [
        "%ls"
      ],
      "execution_count": null,
      "outputs": [
        {
          "output_type": "stream",
          "text": [
            "asf_EstimatedHeight_testing.tif  EstimatedHeight_asf_v17.tif\n",
            "asf_resamp_v4.tif                LiDAR_testing.tif\n",
            "asf_testing_v2.tif               LiDAR_training.tif\n",
            "asf_training_v2.tif\n"
          ],
          "name": "stdout"
        }
      ]
    },
    {
      "cell_type": "markdown",
      "metadata": {
        "id": "3p_ga8JBsjeN"
      },
      "source": [
        "#Bring in datasets"
      ]
    },
    {
      "cell_type": "markdown",
      "metadata": {
        "id": "qOKQlK-xtI-u"
      },
      "source": [
        "##Testing LiDAR"
      ]
    },
    {
      "cell_type": "code",
      "metadata": {
        "id": "nhbzFQHGtMF-"
      },
      "source": [
        "lidar_testing = \"LiDAR_testing.tif\""
      ],
      "execution_count": null,
      "outputs": []
    },
    {
      "cell_type": "code",
      "metadata": {
        "id": "cbKupHsW6qNs"
      },
      "source": [
        "lidar = gdal.Open(lidar_testing)\n",
        "xlidar = lidar.ReadAsArray()"
      ],
      "execution_count": null,
      "outputs": []
    },
    {
      "cell_type": "markdown",
      "metadata": {
        "id": "fR8L4LZWtMed"
      },
      "source": [
        "##InSAR Output"
      ]
    },
    {
      "cell_type": "markdown",
      "metadata": {
        "id": "ngOK078GLiRi"
      },
      "source": [
        "Let's test the low coherence removed and no low coherence for the 2009 InSAR output (that was created using the FNF mask and lidar training data that had already been resampled to 6 ha). "
      ]
    },
    {
      "cell_type": "code",
      "metadata": {
        "id": "RZ3lWrYJtUZX"
      },
      "source": [
        "insar_height_2009_low_coh_inc = \"testing_2009_low_coh_inc_resamp6.tif\""
      ],
      "execution_count": null,
      "outputs": []
    },
    {
      "cell_type": "code",
      "metadata": {
        "id": "99xFD_XH4yJw"
      },
      "source": [
        "insar_2009_low = gdal.Open(insar_height_2009_low_coh_inc)\n",
        "y_2009_low = insar_2009_low.ReadAsArray()"
      ],
      "execution_count": null,
      "outputs": []
    },
    {
      "cell_type": "code",
      "metadata": {
        "id": "uHuKIBu24xmg"
      },
      "source": [
        "insar_height_2009_low_coh_exc = \"testing_2009_no_low_coh_resamp6.tif\""
      ],
      "execution_count": null,
      "outputs": []
    },
    {
      "cell_type": "code",
      "metadata": {
        "id": "tnON7xz_5jeK"
      },
      "source": [
        "insar_2009_no = gdal.Open(insar_height_2009_low_coh_exc)\n",
        "y_2009_no = insar_2009_no.ReadAsArray()"
      ],
      "execution_count": null,
      "outputs": []
    },
    {
      "cell_type": "markdown",
      "metadata": {
        "id": "eA92kCm-8yx7"
      },
      "source": [
        "#Clean input datasets"
      ]
    },
    {
      "cell_type": "code",
      "metadata": {
        "id": "bnt4-uMW-VjA",
        "colab": {
          "base_uri": "https://localhost:8080/"
        },
        "outputId": "d640866f-2a72-4e2b-fa3e-37acea31e2de"
      },
      "source": [
        "print(xlidar.shape)\n",
        "print(y_2009_low.shape)\n",
        "print(y_2009_no.shape)"
      ],
      "execution_count": null,
      "outputs": [
        {
          "output_type": "stream",
          "text": [
            "(86, 139)\n",
            "(86, 139)\n",
            "(86, 139)\n"
          ],
          "name": "stdout"
        }
      ]
    },
    {
      "cell_type": "code",
      "metadata": {
        "id": "cs2RjCjD8hTW",
        "colab": {
          "base_uri": "https://localhost:8080/"
        },
        "outputId": "df7baa63-7aa2-4a6f-a5d6-b4c50fa08676"
      },
      "source": [
        "print(xlidar)\n",
        "print(y_2009_low)\n",
        "print(y_2009_no)"
      ],
      "execution_count": null,
      "outputs": [
        {
          "output_type": "stream",
          "text": [
            "[[-3.4028235e+38 -3.4028235e+38 -3.4028235e+38 ... -3.4028235e+38\n",
            "  -3.4028235e+38 -3.4028235e+38]\n",
            " [-3.4028235e+38 -3.4028235e+38 -3.4028235e+38 ... -3.4028235e+38\n",
            "  -3.4028235e+38 -3.4028235e+38]\n",
            " [-3.4028235e+38  9.9106970e+00 -3.4028235e+38 ... -3.4028235e+38\n",
            "  -3.4028235e+38 -3.4028235e+38]\n",
            " ...\n",
            " [-3.4028235e+38 -3.4028235e+38 -3.4028235e+38 ... -3.4028235e+38\n",
            "  -3.4028235e+38 -3.4028235e+38]\n",
            " [-3.4028235e+38 -3.4028235e+38 -3.4028235e+38 ... -3.4028235e+38\n",
            "  -3.4028235e+38 -3.4028235e+38]\n",
            " [-3.4028235e+38 -3.4028235e+38 -3.4028235e+38 ... -3.4028235e+38\n",
            "  -3.4028235e+38 -3.4028235e+38]]\n",
            "[[65535 65535 65535 ... 65535 65535 65535]\n",
            " [65535 65535 65535 ... 65535 65535 65535]\n",
            " [65535 65535 65535 ... 65535    13 65535]\n",
            " ...\n",
            " [   19 65535 65535 ... 65535    16 65535]\n",
            " [65535 65535 65535 ... 65535 65535 65535]\n",
            " [65535 65535 65535 ... 65535 65535 65535]]\n",
            "[[-2147483647 -2147483647 -2147483647 ... -2147483647 -2147483647\n",
            "  -2147483647]\n",
            " [-2147483647 -2147483647 -2147483647 ... -2147483647 -2147483647\n",
            "  -2147483647]\n",
            " [-2147483647 -2147483647 -2147483647 ... -2147483647          13\n",
            "  -2147483647]\n",
            " ...\n",
            " [-2147483647 -2147483647 -2147483647 ... -2147483647          13\n",
            "  -2147483647]\n",
            " [-2147483647 -2147483647 -2147483647 ... -2147483647 -2147483647\n",
            "  -2147483647]\n",
            " [-2147483647 -2147483647 -2147483647 ... -2147483647 -2147483647\n",
            "  -2147483647]]\n"
          ],
          "name": "stdout"
        }
      ]
    },
    {
      "cell_type": "markdown",
      "metadata": {
        "id": "Zf6mvlq5_BkQ"
      },
      "source": [
        "Squash 2D to 1D"
      ]
    },
    {
      "cell_type": "code",
      "metadata": {
        "id": "n8BePYTB-oVB",
        "colab": {
          "base_uri": "https://localhost:8080/"
        },
        "outputId": "b69ca4bf-734a-4edd-ae3f-cf7a5b9ef2b2"
      },
      "source": [
        "x_rav = np.array(xlidar).ravel()\n",
        "print(\"x_ravel\", x_rav.shape) \n",
        "\n",
        "y_rav2009_no = np.array(y_2009_no).ravel()\n",
        "print(\"2009 no low coherence ravel\", y_rav2009_no.shape) \n",
        "\n",
        "y_rav2009_low = np.array(y_2009_low).ravel()\n",
        "print(\"2009 low coherence included ravel\", y_rav2009_low.shape) "
      ],
      "execution_count": null,
      "outputs": [
        {
          "output_type": "stream",
          "text": [
            "x_ravel (11954,)\n",
            "2009 no low coherence ravel (11954,)\n",
            "2009 low coherence included ravel (11954,)\n"
          ],
          "name": "stdout"
        }
      ]
    },
    {
      "cell_type": "markdown",
      "metadata": {
        "id": "YBHm7zJZRiL6"
      },
      "source": [
        "add in NaNs"
      ]
    },
    {
      "cell_type": "code",
      "metadata": {
        "id": "N5QLGZ3bRh6i",
        "colab": {
          "base_uri": "https://localhost:8080/"
        },
        "outputId": "b0bf87ea-64da-4cae-8b4d-34372f4b66f0"
      },
      "source": [
        "x_nan = np.where(x_rav<0, np.NaN, x_rav)\n",
        "\n",
        "y_nan2009_no = np.where(y_rav2009_no<0, np.NaN, y_rav2009_no)\n",
        "y_nan2009_low = np.where(y_rav2009_low<0, np.NaN, y_rav2009_low)\n",
        "\n",
        "print(x_nan)\n",
        "print(y_nan2009_no)\n",
        "print(y_nan2009_low)"
      ],
      "execution_count": null,
      "outputs": [
        {
          "output_type": "stream",
          "text": [
            "[nan nan nan ... nan nan nan]\n",
            "[nan nan nan ... nan nan nan]\n",
            "[65535. 65535. 65535. ... 65535. 65535. 65535.]\n"
          ],
          "name": "stdout"
        }
      ]
    },
    {
      "cell_type": "markdown",
      "metadata": {
        "id": "25QZO1V2VDT_"
      },
      "source": [
        "and to get rid of additional nodata values..."
      ]
    },
    {
      "cell_type": "code",
      "metadata": {
        "id": "5N3VvOkcU-AS",
        "colab": {
          "base_uri": "https://localhost:8080/"
        },
        "outputId": "0bcddb2a-cf75-4264-fe47-d514ef44e00b"
      },
      "source": [
        "y_nan2009_low_2 = np.where(y_nan2009_low>65534, np.NaN, y_nan2009_low)\n",
        "\n",
        "print(y_nan2009_low_2)"
      ],
      "execution_count": null,
      "outputs": [
        {
          "output_type": "stream",
          "text": [
            "[nan nan nan ... nan nan nan]\n"
          ],
          "name": "stdout"
        }
      ]
    },
    {
      "cell_type": "markdown",
      "metadata": {
        "id": "Bu671EkoRrPC"
      },
      "source": [
        "Ignore nan values in both inputs by creating a mask called \"bad\" (potentially add inf into this). Then compress the ravelled x and y data with the 'bad' mask to create two new datasets xnew and ynew that should match in size and shape (1D)."
      ]
    },
    {
      "cell_type": "code",
      "metadata": {
        "id": "dZYxocs5Rr_R"
      },
      "source": [
        "bad_no = ~np.logical_or(np.isnan(y_nan2009_no), np.isnan(x_nan))\n",
        "bad_low = ~np.logical_or(np.isnan(y_nan2009_low_2), np.isnan(x_nan))"
      ],
      "execution_count": null,
      "outputs": []
    },
    {
      "cell_type": "code",
      "metadata": {
        "id": "mJ-MPxAfKnzm"
      },
      "source": [
        "xnew2009_no = np.compress(bad_no, x_nan)\n",
        "ynew2009_no = np.compress(bad_no, y_nan2009_no)\n",
        "\n",
        "xnew2009_low = np.compress(bad_low, x_nan)\n",
        "ynew2009_low = np.compress(bad_low, y_nan2009_low_2)"
      ],
      "execution_count": null,
      "outputs": []
    },
    {
      "cell_type": "code",
      "metadata": {
        "id": "_ZjQ7o-Q8tQd",
        "colab": {
          "base_uri": "https://localhost:8080/"
        },
        "outputId": "e2ff1ab6-c27e-4c5b-d1d0-730240b53333"
      },
      "source": [
        "print(ynew2009_low)\n",
        "print(ynew2009_no)"
      ],
      "execution_count": null,
      "outputs": [
        {
          "output_type": "stream",
          "text": [
            "[ 8. 19. 19. ... 17. 19. 19.]\n",
            "[ 8. 14. 17. 10. 11. 10. 16.  7. 12. 16.  9. 14. 11. 13. 11. 11. 16. 12.\n",
            " 12. 14. 14. 13. 15. 13. 16. 13. 14. 15. 14. 14. 12. 13. 11. 14. 16. 17.\n",
            " 14. 12. 12.  9. 10. 13. 13. 14. 16. 13.  8. 13. 16. 16. 15. 13. 14. 10.\n",
            " 11. 14. 13. 14. 13. 12. 13. 13. 15.  6. 15.  8.  7. 10. 10.  8. 10. 16.\n",
            "  8. 13.  8.  9. 12.  9. 16. 12. 12. 11.  9.  9. 11.  4. 12. 17. 16. 11.\n",
            " 15.  9. 10.  9. 12.  8. 11. 12. 14. 14. 11. 13. 16. 13. 13. 15. 16. 15.\n",
            " 12. 18. 12.  8. 14. 15. 11. 15. 14. 14. 12. 12. 12. 15. 15. 13. 17. 12.\n",
            " 13. 10. 12.  4. 18. 12. 10. 16. 16. 14. 14. 11.  7. 13.  4. 14. 16. 15.\n",
            " 16.  7. 11. 14. 12. 11. 10.  6. 12. 10. 15. 13. 13. 12. 10. 13. 18. 13.\n",
            "  8. 10.  8. 10. 15.  9. 13. 11. 11. 12.  9. 14.  4.  7.  9. 11.  8. 15.\n",
            " 12. 14. 13. 12. 15. 16. 17. 13. 11. 10. 12. 11.  5. 10. 13.  7. 17. 16.\n",
            " 12. 13. 14. 12. 12. 13. 11. 10. 14.  7. 14. 10. 12. 12. 16. 14. 15. 15.\n",
            " 13. 14. 13. 11.  5.  7. 10. 10. 12.  9. 12. 12. 14. 13. 14.  9. 13. 11.\n",
            " 13. 13. 10.  6.  8. 10.  2. 13. 13. 17. 13. 13. 11.  2. 14. 14. 17. 12.\n",
            " 16. 11. 10. 13. 10. 13. 13. 10.  8. 15. 10. 12. 12.  6.  8.  9. 16. 15.\n",
            "  8. 13. 10.  8. 11.  8. 12.  9. 15.  9.  9. 14.  8. 12. 15. 17. 18. 12.\n",
            " 11. 11.  8. 12.  9. 11. 10.  7. 13. 10. 14. 13.  1.  8. 14. 13. 13. 12.\n",
            " 13. 14. 11.  4. 12. 16.  7. 13. 10.  3. 17.  8. 10. 13. 15. 13. 12. 11.\n",
            " 13. 13. 13. 13. 14.  4. 16. 11. 11. 16. 12. 10. 10.  8. 13. 15.  6.  8.\n",
            "  5. 10. 10. 10.  9.  0.  9. 14. 10.  5.  9.  6. 10.  8.  7. 10. 10. 10.\n",
            " 14. 12.  6. 12. 12.  9. 10. 12.  9.  2.  5. 11. 16.  9.  5.  8.  8.  9.\n",
            " 11.  9. 12.  9. 14. 10. 12. 11.  7.  2. 10. 12. 11. 15. 12.  6. 14. 11.\n",
            "  4. 12. 13. 11. 11. 10. 12. 13. 12.  8. 11. 10.  8. 13. 13. 15. 14. 14.\n",
            " 10. 10. 15. 14.  7. 10.  9. 12.  9. 14.  3. 13. 11. 14. 10. 12.  8. 17.\n",
            " 12.  7.  9.  7. 15. 11. 12. 12. 11. 12.  5. 10. 16. 13. 13. 11. 10.  9.\n",
            " 10. 12. 13.  9. 14.  0. 16. 14.  6. 12.  7.  6. 13.  7.  3.  2.  2.  6.\n",
            "  8. 12. 10.  9.  5.  6.  8.  7. 15.  4. 12.  8. 15.  8. 10.  6.  7.  9.\n",
            "  9. 13.  6.  3. 10. 10. 12. 10. 11.  7. 12.  9.  7.  6.  6.  8.  8. 11.\n",
            " 12.  9.  8. 16. 12.  8.  2.  3. 14.  6.  9. 10. 16. 17. 13.  8.  4.  4.\n",
            "  7.  9. 13.  4. 12. 11.  3. 11.  9.  5. 14. 10. 14. 11.  7. 12.  4. 11.\n",
            " 10.  4.  6.  0. 11. 12. 10. 13. 16. 12.  6. 10. 12.  9. 12. 10. 13.  7.\n",
            " 11.  3. 10. 15.  5.  8.  5. 13.  9. 13.  8. 17.  6.  9.  8.  5. 11.  8.\n",
            "  4. 14. 12.  7. 10. 16. 11.  7.  8.  8. 13.  4.  9. 11.  2. 10.  8. 13.\n",
            "  9.  8. 11. 10. 13.  3.  8.  4.  7. 11. 11.  9. 10. 12. 11. 13. 11.  3.\n",
            " 11. 12. 11.  5. 13. 11.  5.  4. 11. 13. 13. 10. 10. 10.  6. 13.  1.  7.\n",
            "  8.  7.  7.  7. 11.  3. 14. 10. 10.  3.  6.  8. 11. 13. 10. 13. 17.  8.\n",
            " 11.  9.  8.  6. 12.  4.  7. 11. 13. 12.  3. 10. 11.  8.  9. 10. 15. 16.\n",
            " 12. 11. 17.  8. 12.  0.  9. 10. 13.  9. 11. 13.  9.  8.  8. 15. 14. 12.\n",
            " 12.  8.  8.  6.  9.  6. 13. 12.  7. 13. 11. 17.  3.  7.  7.  8. 11. 10.\n",
            " 12.  8.  9. 10. 10.  7.  8. 14. 16. 14. 10.  8.  7.  4. 10. 10. 11. 17.\n",
            " 13. 15. 10.  7.  8.  4. 10. 13. 14. 13. 13. 15.  0.  3.  7.  9.  4. 15.\n",
            " 13. 14. 17. 12. 17. 12.  8.  7. 10. 14.  6.  7. 10. 10.  9.  1. 12.  9.\n",
            " 13. 16. 16. 14. 16. 13. 12.  9. 12.  1. 10. 13.  2. 13. 13. 13. 14. 12.\n",
            "  7. 12. 13. 16.  5.  8.  6.  9.  7.  8.  9. 12. 14. 11. 13. 13. 12. 16.\n",
            " 15. 11. 15. 15. 13. 11. 16. 11. 15.]\n"
          ],
          "name": "stdout"
        }
      ]
    },
    {
      "cell_type": "code",
      "metadata": {
        "id": "UCfF3-rqPdIq",
        "colab": {
          "base_uri": "https://localhost:8080/"
        },
        "outputId": "515ffba1-88be-45d6-b041-cd2c31e81c93"
      },
      "source": [
        "print(ynew2009_no.shape)\n",
        "print(ynew2009_low.shape)"
      ],
      "execution_count": null,
      "outputs": [
        {
          "output_type": "stream",
          "text": [
            "(801,)\n",
            "(1178,)\n"
          ],
          "name": "stdout"
        }
      ]
    },
    {
      "cell_type": "markdown",
      "metadata": {
        "id": "ZOrZ_pd0tSx-"
      },
      "source": [
        "#Graph and Calculate Metrics"
      ]
    },
    {
      "cell_type": "markdown",
      "metadata": {
        "id": "AHF6Urx4YrNK"
      },
      "source": [
        "Used 22 as the ylim for low incoherence included, 25 ylim for all of the other graphs"
      ]
    },
    {
      "cell_type": "markdown",
      "metadata": {
        "id": "rAHsqkOpRKVd"
      },
      "source": [
        "First computing for no low coherence"
      ]
    },
    {
      "cell_type": "code",
      "metadata": {
        "id": "hUJom95w88NI",
        "colab": {
          "base_uri": "https://localhost:8080/",
          "height": 698
        },
        "outputId": "30538af2-9c04-4f4c-c466-ebbf934c7bde"
      },
      "source": [
        "#line of best fit\n",
        "#https://stackoverflow.com/questions/22239691/code-for-best-fit-straight-line-of-a-scatter-plot-in-python\n",
        "def best_fit(X, Y):\n",
        "\n",
        "    xbar = sum(X)/len(X)\n",
        "    ybar = sum(Y)/len(Y)\n",
        "    n = len(X) # or len(Y)\n",
        "\n",
        "    numer = sum([xi*yi for xi,yi in zip(X, Y)]) - n * xbar * ybar\n",
        "    denom = sum([xi**2 for xi in X]) - n * xbar**2\n",
        "\n",
        "    b = numer / denom\n",
        "    a = ybar - b * xbar\n",
        "\n",
        "    print('best fit line:\\ny = {:.2f} + {:.2f}x'.format(a, b))\n",
        "\n",
        "    return a, b\n",
        "\n",
        "a, b = best_fit(ynew2009_no, xnew2009_no)\n",
        "yfit = [a + b * xi for xi in xnew2009_no]\n",
        "\n",
        "#Density plot: https://python-graph-gallery.com/83-basic-2d-histograms-with-matplotlib/\n",
        "plt.plot(xnew2009_no, yfit)\n",
        "plt.hist2d(xnew2009_no, ynew2009_no, bins=(50, 50), cmap=plt.cm.Greys)\n",
        "plt.ylim(top=18)\n",
        "plt.colorbar()\n",
        "\n",
        "plt.xlabel('LiDAR Height')\n",
        "plt.ylabel('InSAR estimated Height')\n",
        "#plt.legend()\n",
        "plt.show()\n",
        "\n",
        "#although not actually predicting anything here...\n",
        "actual = xnew2009_no\n",
        "predicted = ynew2009_no\n",
        "\n",
        "#calculate bias\n",
        "#confirm this process\n",
        "bias = statistics.mean(predicted-actual)\n",
        "print (\"bias\", bias)\n",
        "\n",
        "correlation_matrix = np.corrcoef(actual, predicted)\n",
        "correlation_xy = correlation_matrix[0,1]\n",
        "r_squared = correlation_xy**2\n",
        "\n",
        "print(\"numpy R2\", r_squared)\n",
        "\n",
        "slope, intercept, r_value, p_value, std_err = stats.linregress(actual, predicted)\n",
        "print (\"stats R value\", r_value)\n",
        "statsR2 = r_value*r_value\n",
        "print(\"stats R2\", statsR2)\n",
        "\n",
        "mse = sklearn.metrics.mean_squared_error(actual, predicted)\n",
        "rmse = math.sqrt(mse)\n",
        "print (\"RMSE \", rmse)\n",
        "\n",
        "stdev = statistics.stdev(ynew2009_no)\n",
        "print(\"standard deviation of InSAR height\", stdev)\n",
        "\n",
        "fig = plt.figure()\n",
        "plt.scatter(xnew2009_no, ynew2009_no) #, c=colors, alpha=0.5\n",
        "plt.plot( xnew2009_no, yfit, figure=fig )\n",
        "plt.xlabel('LiDAR height')\n",
        "plt.ylabel('InSAR estimated height')\n",
        "plt.show()"
      ],
      "execution_count": null,
      "outputs": [
        {
          "output_type": "stream",
          "text": [
            "best fit line:\n",
            "y = 6.22 + 0.34x\n"
          ],
          "name": "stdout"
        },
        {
          "output_type": "display_data",
          "data": {
            "image/png": "[encoded data removed]",
            "text/plain": [
              "<Figure size 432x288 with 2 Axes>"
            ]
          },
          "metadata": {
            "tags": []
          }
        },
        {
          "output_type": "stream",
          "text": [
            "bias 0.8421566460500198\n",
            "numpy R2 0.13458067892570727\n",
            "stats R value 0.3668523939211891\n",
            "stats R2 0.13458067892570733\n",
            "RMSE  3.9344127499445376\n",
            "standard deviation of InSAR height 3.5394305564835973\n"
          ],
          "name": "stdout"
        },
        {
          "output_type": "display_data",
          "data": {
            "image/png": "[encoded data removed]",
            "text/plain": [
              "<Figure size 432x288 with 1 Axes>"
            ]
          },
          "metadata": {
            "tags": []
          }
        }
      ]
    },
    {
      "cell_type": "markdown",
      "metadata": {
        "id": "XbyLAvRnTlk1"
      },
      "source": [
        "And now we will repeat for the low coherence (less than 0.2) included"
      ]
    },
    {
      "cell_type": "code",
      "metadata": {
        "id": "z0HyaxE0St2b",
        "colab": {
          "base_uri": "https://localhost:8080/",
          "height": 698
        },
        "outputId": "b533db06-da38-4839-9d15-60b474482e7e"
      },
      "source": [
        "#line of best fit\n",
        "#https://stackoverflow.com/questions/22239691/code-for-best-fit-straight-line-of-a-scatter-plot-in-python\n",
        "def best_fit(X, Y):\n",
        "\n",
        "    xbar = sum(X)/len(X)\n",
        "    ybar = sum(Y)/len(Y)\n",
        "    n = len(X) # or len(Y)\n",
        "\n",
        "    numer = sum([xi*yi for xi,yi in zip(X, Y)]) - n * xbar * ybar\n",
        "    denom = sum([xi**2 for xi in X]) - n * xbar**2\n",
        "\n",
        "    b = numer / denom\n",
        "    a = ybar - b * xbar\n",
        "\n",
        "    print('best fit line:\\ny = {:.2f} + {:.2f}x'.format(a, b))\n",
        "\n",
        "    return a, b\n",
        "\n",
        "a, b = best_fit(ynew2009_low, xnew2009_low)\n",
        "yfit = [a + b * xi for xi in xnew2009_low]\n",
        "\n",
        "#Density plot: https://python-graph-gallery.com/83-basic-2d-histograms-with-matplotlib/\n",
        "plt.plot(xnew2009_low, yfit)\n",
        "plt.hist2d(xnew2009_low, ynew2009_low, bins=(50, 50), cmap=plt.cm.Greys)\n",
        "plt.ylim(top=18)\n",
        "plt.colorbar()\n",
        "\n",
        "plt.xlabel('LiDAR Height')\n",
        "plt.ylabel('InSAR estimated Height')\n",
        "#plt.legend()\n",
        "plt.show()\n",
        "\n",
        "#although not actually predicting anything here...\n",
        "actual = xnew2009_low\n",
        "predicted = ynew2009_low\n",
        "\n",
        "#calculate bias\n",
        "#confirm this process\n",
        "bias = statistics.mean(predicted-actual)\n",
        "print (\"bias\", bias)\n",
        "\n",
        "correlation_matrix = np.corrcoef(actual, predicted)\n",
        "correlation_xy = correlation_matrix[0,1]\n",
        "r_squared = correlation_xy**2\n",
        "\n",
        "print(\"numpy R2\", r_squared)\n",
        "\n",
        "slope, intercept, r_value, p_value, std_err = stats.linregress(actual, predicted)\n",
        "print (\"stats R value\", r_value)\n",
        "statsR2 = r_value*r_value\n",
        "print(\"stats R2\", statsR2)\n",
        "\n",
        "mse = sklearn.metrics.mean_squared_error(actual, predicted)\n",
        "rmse = math.sqrt(mse)\n",
        "print (\"RMSE \", rmse)\n",
        "\n",
        "stdev = statistics.stdev(ynew2009_low)\n",
        "print(\"standard deviation of InSAR height\", stdev)\n",
        "\n",
        "fig = plt.figure()\n",
        "plt.scatter(xnew2009_low, ynew2009_low) #, c=colors, alpha=0.5\n",
        "plt.plot( xnew2009_low, yfit, figure=fig )\n",
        "plt.xlabel('LiDAR height')\n",
        "plt.ylabel('InSAR Estimated Height')\n",
        "plt.show()"
      ],
      "execution_count": null,
      "outputs": [
        {
          "output_type": "stream",
          "text": [
            "best fit line:\n",
            "y = 6.53 + 0.29x\n"
          ],
          "name": "stdout"
        },
        {
          "output_type": "display_data",
          "data": {
            "image/png": "[encoded data removed]",
            "text/plain": [
              "<Figure size 432x288 with 2 Axes>"
            ]
          },
          "metadata": {
            "tags": []
          }
        },
        {
          "output_type": "stream",
          "text": [
            "bias 2.954462571831733\n",
            "numpy R2 0.13121904078572716\n",
            "stats R value 0.3622416883597568\n",
            "stats R2 0.13121904078572716\n",
            "RMSE  5.634251613043476\n",
            "standard deviation of InSAR height 4.6475250328717355\n"
          ],
          "name": "stdout"
        },
        {
          "output_type": "display_data",
          "data": {
            "image/png": "[encoded data removed]",
            "text/plain": [
              "<Figure size 432x288 with 1 Axes>"
            ]
          },
          "metadata": {
            "tags": []
          }
        }
      ]
    },
    {
      "cell_type": "markdown",
      "metadata": {
        "id": "L7KmmKhLtVIO"
      },
      "source": [
        "##Backscatter Product"
      ]
    },
    {
      "cell_type": "markdown",
      "metadata": {
        "id": "mftl7301K5pt"
      },
      "source": [
        "We will compare the 6 ha produced backscatter product based on various colab coefficients. "
      ]
    },
    {
      "cell_type": "code",
      "metadata": {
        "id": "rwDtxwmLLNXu"
      },
      "source": [
        "%ls"
      ],
      "execution_count": null,
      "outputs": []
    },
    {
      "cell_type": "markdown",
      "metadata": {
        "id": "_4fZZTqILAOu"
      },
      "source": [
        "So bring in our two datasets..."
      ]
    },
    {
      "cell_type": "code",
      "metadata": {
        "id": "l5vlfEktK5Ar"
      },
      "source": [
        "lidar_testing = \"LiDAR_testing.tif\""
      ],
      "execution_count": null,
      "outputs": []
    },
    {
      "cell_type": "code",
      "metadata": {
        "id": "bzcUNWiTsBh0"
      },
      "source": [
        "lidar = gdal.Open(lidar_testing)\n",
        "xlidar = lidar.ReadAsArray()"
      ],
      "execution_count": null,
      "outputs": []
    },
    {
      "cell_type": "code",
      "metadata": {
        "id": "cOo4VV4OLIo7"
      },
      "source": [
        "backscatter = \"asf_EstimatedHeight_testing.tif\""
      ],
      "execution_count": null,
      "outputs": []
    },
    {
      "cell_type": "code",
      "metadata": {
        "id": "NBTU9HLjLIWN"
      },
      "source": [
        "bs_FSH = gdal.Open(backscatter)\n",
        "bs = bs_FSH.ReadAsArray()"
      ],
      "execution_count": null,
      "outputs": []
    },
    {
      "cell_type": "markdown",
      "metadata": {
        "id": "Dy0uyQRnMEgW"
      },
      "source": [
        "Check them..."
      ]
    },
    {
      "cell_type": "code",
      "metadata": {
        "id": "5KX7RQ9VLlLH",
        "colab": {
          "base_uri": "https://localhost:8080/"
        },
        "outputId": "3dff2132-6dcd-481c-93e6-d5e69e42ca67"
      },
      "source": [
        "print(bs.shape)\n",
        "print(xlidar.shape)"
      ],
      "execution_count": null,
      "outputs": [
        {
          "output_type": "stream",
          "text": [
            "(86, 139)\n",
            "(86, 139)\n"
          ],
          "name": "stdout"
        }
      ]
    },
    {
      "cell_type": "code",
      "metadata": {
        "id": "BHlSZz2H43pc",
        "colab": {
          "base_uri": "https://localhost:8080/"
        },
        "outputId": "e4d6ce32-7bdf-4cec-8988-f85d4fc3ec97"
      },
      "source": [
        "print(bs)"
      ],
      "execution_count": null,
      "outputs": [
        {
          "output_type": "stream",
          "text": [
            "[[-3.4028235e+38 -3.4028235e+38 -3.4028235e+38 ... -3.4028235e+38\n",
            "  -3.4028235e+38 -3.4028235e+38]\n",
            " [-3.4028235e+38 -3.4028235e+38 -3.4028235e+38 ... -3.4028235e+38\n",
            "  -3.4028235e+38 -3.4028235e+38]\n",
            " [-3.4028235e+38  1.4705623e+01 -3.4028235e+38 ... -3.4028235e+38\n",
            "  -3.4028235e+38 -3.4028235e+38]\n",
            " ...\n",
            " [-3.4028235e+38 -3.4028235e+38 -3.4028235e+38 ... -3.4028235e+38\n",
            "  -3.4028235e+38 -3.4028235e+38]\n",
            " [-3.4028235e+38 -3.4028235e+38 -3.4028235e+38 ... -3.4028235e+38\n",
            "  -3.4028235e+38 -3.4028235e+38]\n",
            " [-3.4028235e+38 -3.4028235e+38 -3.4028235e+38 ... -3.4028235e+38\n",
            "  -3.4028235e+38 -3.4028235e+38]]\n"
          ],
          "name": "stdout"
        }
      ]
    },
    {
      "cell_type": "markdown",
      "metadata": {
        "id": "fxR_6k-9LjYv"
      },
      "source": [
        "Clean them up..."
      ]
    },
    {
      "cell_type": "code",
      "metadata": {
        "id": "pBYYEIVbLzLv",
        "colab": {
          "base_uri": "https://localhost:8080/"
        },
        "outputId": "351c291f-08d0-4b4d-a495-573e00575b8c"
      },
      "source": [
        "x_rav = np.array(xlidar).ravel()\n",
        "print(\"x_ravel\", x_rav.shape) \n",
        "\n",
        "y_bs = np.array(bs).ravel()\n",
        "print(\"Backscatter estimated height ravel\", y_bs.shape) "
      ],
      "execution_count": null,
      "outputs": [
        {
          "output_type": "stream",
          "text": [
            "x_ravel (11954,)\n",
            "Backscatter estimated height ravel (11954,)\n"
          ],
          "name": "stdout"
        }
      ]
    },
    {
      "cell_type": "markdown",
      "metadata": {
        "id": "g32ki3BxMXbY"
      },
      "source": [
        "Add in NaNs"
      ]
    },
    {
      "cell_type": "code",
      "metadata": {
        "id": "X38DnJzIMRYB",
        "colab": {
          "base_uri": "https://localhost:8080/"
        },
        "outputId": "0f6402e6-81e3-4384-bba2-c54e0f81b5ec"
      },
      "source": [
        "x_nan = np.where(x_rav<0, np.NaN, x_rav)\n",
        "\n",
        "y_nan = np.where(y_bs<0, np.NaN, y_bs)\n",
        "\n",
        "print(y_nan)\n",
        "print(x_nan)"
      ],
      "execution_count": null,
      "outputs": [
        {
          "output_type": "stream",
          "text": [
            "[nan nan nan ... nan nan nan]\n",
            "[nan nan nan ... nan nan nan]\n"
          ],
          "name": "stdout"
        }
      ]
    },
    {
      "cell_type": "code",
      "metadata": {
        "id": "oYdVuUyEMrDK"
      },
      "source": [
        "bad_bs = ~np.logical_or(np.isnan(x_nan), np.isnan(y_nan))"
      ],
      "execution_count": null,
      "outputs": []
    },
    {
      "cell_type": "code",
      "metadata": {
        "id": "AawJ9kPhMxJK"
      },
      "source": [
        "xnew = np.compress(bad_bs, x_nan)\n",
        "ynew = np.compress(bad_bs, y_nan)"
      ],
      "execution_count": null,
      "outputs": []
    },
    {
      "cell_type": "code",
      "metadata": {
        "id": "Wn17Abf1NFH7",
        "colab": {
          "base_uri": "https://localhost:8080/"
        },
        "outputId": "9d41147f-b924-459d-f8d0-3ee46c92561d"
      },
      "source": [
        "print(xnew)\n",
        "print(ynew)"
      ],
      "execution_count": null,
      "outputs": [
        {
          "output_type": "stream",
          "text": [
            "[ 9.910697  5.79     15.283643 ... 12.094468 16.136358 18.390541]\n",
            "[14.705623  10.5033655  4.953572  ... 11.145048  10.151356  14.87663  ]\n"
          ],
          "name": "stdout"
        }
      ]
    },
    {
      "cell_type": "code",
      "metadata": {
        "id": "ia9KirmyNILM",
        "colab": {
          "base_uri": "https://localhost:8080/",
          "height": 681
        },
        "outputId": "88c65473-815b-4d13-995b-484aa0eacc79"
      },
      "source": [
        "#line of best fit\n",
        "#https://stackoverflow.com/questions/22239691/code-for-best-fit-straight-line-of-a-scatter-plot-in-python\n",
        "def best_fit(X, Y):\n",
        "\n",
        "    xbar = sum(X)/len(X)\n",
        "    ybar = sum(Y)/len(Y)\n",
        "    n = len(X) # or len(Y)\n",
        "\n",
        "    numer = sum([xi*yi for xi,yi in zip(X, Y)]) - n * xbar * ybar\n",
        "    denom = sum([xi**2 for xi in X]) - n * xbar**2\n",
        "\n",
        "    b = numer / denom\n",
        "    a = ybar - b * xbar\n",
        "\n",
        "    print('best fit line:\\ny = {:.2f} + {:.2f}x'.format(a, b))\n",
        "\n",
        "    return a, b\n",
        "\n",
        "a, b = best_fit(xnew, ynew)\n",
        "yfit = [a + b * xi for xi in xnew]\n",
        "\n",
        "#Density plot: https://python-graph-gallery.com/83-basic-2d-histograms-with-matplotlib/\n",
        "plt.plot(xnew, yfit)\n",
        "plt.hist2d(xnew, ynew, bins=(50, 50), cmap=plt.cm.Greys)\n",
        "#plt.ylim(top=80)\n",
        "plt.colorbar()\n",
        "\n",
        "plt.xlabel('LiDAR Height')\n",
        "plt.ylabel('Backscatter estimated Height')\n",
        "#plt.legend()\n",
        "plt.show()\n",
        "\n",
        "#although not actually predicting anything here...\n",
        "actual = xnew\n",
        "predicted = ynew\n",
        "\n",
        "#calculate bias\n",
        "#confirm this process\n",
        "bias = statistics.mean(predicted-actual)\n",
        "print (\"bias\", bias)\n",
        "\n",
        "correlation_matrix = np.corrcoef(actual, predicted)\n",
        "correlation_xy = correlation_matrix[0,1]\n",
        "r_squared = correlation_xy**2\n",
        "\n",
        "print(\"numpy R2\", r_squared)\n",
        "\n",
        "slope, intercept, r_value, p_value, std_err = stats.linregress(actual, predicted)\n",
        "print (\"stats R value\", r_value)\n",
        "statsR2 = r_value*r_value\n",
        "print(\"stats R2\", statsR2)\n",
        "\n",
        "mse = sklearn.metrics.mean_squared_error(actual, predicted)\n",
        "rmse = math.sqrt(mse)\n",
        "print (\"RMSE \", rmse)\n",
        "\n",
        "#stdev = statistics.stdev(ynew)\n",
        "#print(\"standard deviation of InSAR height\", stdev)\n",
        "\n",
        "fig = plt.figure()\n",
        "plt.scatter(xnew, ynew) #, c=colors, alpha=0.5\n",
        "plt.plot( xnew, yfit, figure=fig )\n",
        "plt.xlabel('LiDAR height')\n",
        "plt.ylabel('Estimated Height')\n",
        "plt.show()"
      ],
      "execution_count": null,
      "outputs": [
        {
          "output_type": "stream",
          "text": [
            "best fit line:\n",
            "y = 2.77 + 0.55x\n"
          ],
          "name": "stdout"
        },
        {
          "output_type": "display_data",
          "data": {
            "image/png": "[encoded data removed]",
            "text/plain": [
              "<Figure size 432x288 with 2 Axes>"
            ]
          },
          "metadata": {
            "tags": [],
            "needs_background": "light"
          }
        },
        {
          "output_type": "stream",
          "text": [
            "bias -1.8368144\n",
            "numpy R2 0.12347685398047098\n",
            "stats R value 0.3513927346722908\n",
            "stats R2 0.12347685398047098\n",
            "RMSE  6.344058174953731\n"
          ],
          "name": "stdout"
        },
        {
          "output_type": "display_data",
          "data": {
            "image/png": "[encoded data removed]",
            "text/plain": [
              "<Figure size 432x288 with 1 Axes>"
            ]
          },
          "metadata": {
            "tags": [],
            "needs_background": "light"
          }
        }
      ]
    },
    {
      "cell_type": "markdown",
      "metadata": {
        "id": "x7JjC7aztZZu"
      },
      "source": [
        "##Fusion Product"
      ]
    },
    {
      "cell_type": "markdown",
      "metadata": {
        "id": "-GzrUBTXS47E"
      },
      "source": [
        "We will validate the fusion product against other raster products (GLAD 2019, potentially add GLAD 2010). \n",
        "\n",
        "The point validation (GEDI, hdom) was completed in ArcMap and Excel. "
      ]
    },
    {
      "cell_type": "code",
      "metadata": {
        "id": "k2KQNLdqS25s"
      },
      "source": [
        "%ls"
      ],
      "execution_count": null,
      "outputs": []
    },
    {
      "cell_type": "code",
      "metadata": {
        "id": "1qoSVSEGtdyV"
      },
      "source": [
        "glad_testing = \"GLAD_2019_setnull.tif\""
      ],
      "execution_count": null,
      "outputs": []
    },
    {
      "cell_type": "code",
      "metadata": {
        "id": "kTDVtjrwUB6j"
      },
      "source": [
        "glad = gdal.Open(glad_testing)\n",
        "xGLAD = glad.ReadAsArray()"
      ],
      "execution_count": null,
      "outputs": []
    },
    {
      "cell_type": "code",
      "metadata": {
        "id": "24NWVpg1UTRq"
      },
      "source": [
        "fusion = \"Fusion_v1_extract.tif\""
      ],
      "execution_count": null,
      "outputs": []
    },
    {
      "cell_type": "code",
      "metadata": {
        "id": "-FAcyUqWUvG3"
      },
      "source": [
        "fusion_FSH = gdal.Open(fusion)\n",
        "fs = fusion_FSH.ReadAsArray()"
      ],
      "execution_count": null,
      "outputs": []
    },
    {
      "cell_type": "markdown",
      "metadata": {
        "id": "i4yJL8R6WIP8"
      },
      "source": [
        "Check to make sure they are the same"
      ]
    },
    {
      "cell_type": "code",
      "metadata": {
        "id": "yZisFzgtVB0V",
        "colab": {
          "base_uri": "https://localhost:8080/"
        },
        "outputId": "4484dca4-27cd-4823-9247-bd36a23037b1"
      },
      "source": [
        "print(xGLAD.shape)\n",
        "print(fs.shape)"
      ],
      "execution_count": null,
      "outputs": [
        {
          "output_type": "stream",
          "text": [
            "(401, 404)\n",
            "(401, 404)\n"
          ],
          "name": "stdout"
        }
      ]
    },
    {
      "cell_type": "code",
      "metadata": {
        "id": "sKmHwCQ4XuYC",
        "colab": {
          "base_uri": "https://localhost:8080/"
        },
        "outputId": "1a40a95f-eead-4db0-908f-bb94b10ba944"
      },
      "source": [
        "x_rav = np.array(xGLAD).ravel()\n",
        "print(\"GLAD\", x_rav.shape) \n",
        "\n",
        "y_rav = np.array(fs).ravel()\n",
        "print(\"Fusion\", y_rav.shape) "
      ],
      "execution_count": null,
      "outputs": [
        {
          "output_type": "stream",
          "text": [
            "GLAD (162004,)\n",
            "Fusion (162004,)\n"
          ],
          "name": "stdout"
        }
      ]
    },
    {
      "cell_type": "code",
      "metadata": {
        "id": "zaFP7P0mYQNP",
        "colab": {
          "base_uri": "https://localhost:8080/"
        },
        "outputId": "df1031f7-761e-4ec0-94ce-67b7951341b4"
      },
      "source": [
        "x_nan = np.where(x_rav<0, np.NaN, x_rav)\n",
        "\n",
        "y_nan = np.where(y_rav<0, np.NaN, y_rav)\n",
        "\n",
        "print(y_nan)\n",
        "print(x_nan)"
      ],
      "execution_count": null,
      "outputs": [
        {
          "output_type": "stream",
          "text": [
            "[nan nan nan ... nan nan nan]\n",
            "[nan nan nan ... nan nan nan]\n"
          ],
          "name": "stdout"
        }
      ]
    },
    {
      "cell_type": "code",
      "metadata": {
        "id": "6ctFxVFiYY9a"
      },
      "source": [
        "bad_bs = ~np.logical_or(np.isnan(x_nan), np.isnan(y_nan))"
      ],
      "execution_count": null,
      "outputs": []
    },
    {
      "cell_type": "code",
      "metadata": {
        "id": "vOHzX3ZBYk53"
      },
      "source": [
        "xnew = np.compress(bad_bs, x_nan)\n",
        "ynew = np.compress(bad_bs, y_nan)"
      ],
      "execution_count": null,
      "outputs": []
    },
    {
      "cell_type": "code",
      "metadata": {
        "id": "vN568o2uY0_g",
        "colab": {
          "base_uri": "https://localhost:8080/"
        },
        "outputId": "fe3dd9ce-f1ed-4671-ef02-9beff3144195"
      },
      "source": [
        "print(xnew)\n",
        "print(ynew)"
      ],
      "execution_count": null,
      "outputs": [
        {
          "output_type": "stream",
          "text": [
            "[23. 28. 23. ...  0.  0. 17.]\n",
            "[19.       14.        9.781096 ... 13.       19.       11.      ]\n"
          ],
          "name": "stdout"
        }
      ]
    },
    {
      "cell_type": "code",
      "metadata": {
        "id": "tB5GlaouY4Uz",
        "colab": {
          "base_uri": "https://localhost:8080/",
          "height": 678
        },
        "outputId": "6796da6b-09bc-4544-d249-24f6b7184342"
      },
      "source": [
        "#line of best fit\n",
        "#https://stackoverflow.com/questions/22239691/code-for-best-fit-straight-line-of-a-scatter-plot-in-python\n",
        "def best_fit(X, Y):\n",
        "\n",
        "    xbar = sum(X)/len(X)\n",
        "    ybar = sum(Y)/len(Y)\n",
        "    n = len(X) # or len(Y)\n",
        "\n",
        "    numer = sum([xi*yi for xi,yi in zip(X, Y)]) - n * xbar * ybar\n",
        "    denom = sum([xi**2 for xi in X]) - n * xbar**2\n",
        "\n",
        "    b = numer / denom\n",
        "    a = ybar - b * xbar\n",
        "\n",
        "    print('best fit line:\\ny = {:.2f} + {:.2f}x'.format(a, b))\n",
        "\n",
        "    return a, b\n",
        "\n",
        "a, b = best_fit(xnew, ynew)\n",
        "yfit = [a + b * xi for xi in xnew]\n",
        "\n",
        "#Density plot: https://python-graph-gallery.com/83-basic-2d-histograms-with-matplotlib/\n",
        "plt.plot(xnew, yfit)\n",
        "plt.hist2d(xnew, ynew, bins=(50, 50), cmap=plt.cm.Greys)\n",
        "#plt.ylim(top=80)\n",
        "plt.colorbar()\n",
        "\n",
        "plt.xlabel('GLAD Height')\n",
        "plt.ylabel('Fusion Height')\n",
        "#plt.legend()\n",
        "plt.show()\n",
        "\n",
        "#although not actually predicting anything here...\n",
        "actual = xnew\n",
        "predicted = ynew\n",
        "\n",
        "#calculate bias\n",
        "#confirm this process\n",
        "bias = statistics.mean(predicted-actual)\n",
        "print (\"bias\", bias)\n",
        "\n",
        "correlation_matrix = np.corrcoef(actual, predicted)\n",
        "correlation_xy = correlation_matrix[0,1]\n",
        "r_squared = correlation_xy**2\n",
        "\n",
        "print(\"numpy R2\", r_squared)\n",
        "\n",
        "slope, intercept, r_value, p_value, std_err = stats.linregress(actual, predicted)\n",
        "print (\"stats R value\", r_value)\n",
        "statsR2 = r_value*r_value\n",
        "print(\"stats R2\", statsR2)\n",
        "\n",
        "mse = sklearn.metrics.mean_squared_error(actual, predicted)\n",
        "rmse = math.sqrt(mse)\n",
        "print (\"RMSE \", rmse)\n",
        "\n",
        "#stdev = statistics.stdev(ynew)\n",
        "#print(\"standard deviation of InSAR height\", stdev)\n",
        "\n",
        "fig = plt.figure()\n",
        "plt.scatter(xnew, ynew) #, c=colors, alpha=0.5\n",
        "plt.plot( xnew, yfit, figure=fig )\n",
        "plt.xlabel('GLAD height')\n",
        "plt.ylabel('Fusion estimated Height')\n",
        "plt.show()"
      ],
      "execution_count": null,
      "outputs": [
        {
          "output_type": "stream",
          "text": [
            "best fit line:\n",
            "y = 6.59 + 0.44x\n"
          ],
          "name": "stdout"
        },
        {
          "output_type": "display_data",
          "data": {
            "image/png": "[encoded data removed]",
            "text/plain": [
              "<Figure size 432x288 with 2 Axes>"
            ]
          },
          "metadata": {
            "tags": [],
            "needs_background": "light"
          }
        },
        {
          "output_type": "stream",
          "text": [
            "bias 1.5117245690620789\n",
            "numpy R2 0.25190526936992613\n",
            "stats R value 0.5019016530854686\n",
            "stats R2 0.25190526936992613\n",
            "RMSE  6.123063531529451\n"
          ],
          "name": "stdout"
        },
        {
          "output_type": "display_data",
          "data": {
            "image/png": "[encoded data removed]",
            "text/plain": [
              "<Figure size 432x288 with 1 Axes>"
            ]
          },
          "metadata": {
            "tags": [],
            "needs_background": "light"
          }
        }
      ]
    },
    {
      "cell_type": "markdown",
      "metadata": {
        "id": "mFBhoj9qDo_u"
      },
      "source": [
        "##Pairplot"
      ]
    },
    {
      "cell_type": "markdown",
      "metadata": {
        "id": "Lfm_F50zDuAT"
      },
      "source": [
        "https://seaborn.pydata.org/generated/seaborn.pairplot.html?highlight=pairplot#seaborn.pairplot"
      ]
    },
    {
      "cell_type": "markdown",
      "metadata": {
        "id": "m3FhflQxLDVk"
      },
      "source": [
        "Full pandas dataframe needs to be made by this point. This will have columns for the estimated height at a particular aggregation level for: backscatter, insar, fused, LiDAR, GLAD, GEDI, Hdom (?). Rows are the (flattened) pixels. Something to keep in mind is that these may not have the same number of pixels available (NaNs may occur in different rows...). "
      ]
    },
    {
      "cell_type": "code",
      "metadata": {
        "id": "6ueQdcMvKp3F"
      },
      "source": [
        "comparison = sns.load_dataset(\"comparison\")"
      ],
      "execution_count": null,
      "outputs": []
    },
    {
      "cell_type": "code",
      "metadata": {
        "id": "wmxz5c99Dq-b"
      },
      "source": [
        "sns.pairplot(comparison, corner=True)"
      ],
      "execution_count": null,
      "outputs": []
    }
  ]
}